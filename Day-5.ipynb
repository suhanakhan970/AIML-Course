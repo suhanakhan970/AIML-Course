{
 "cells": [
  {
   "cell_type": "code",
   "execution_count": 1,
   "id": "7f0082f1",
   "metadata": {},
   "outputs": [
    {
     "name": "stdout",
     "output_type": "stream",
     "text": [
      "4\n"
     ]
    }
   ],
   "source": [
    "def sum(a=0,b=1):  #default values\n",
    "    y=a+b\n",
    "    return y\n",
    "x= sum(1,3)\n",
    "print(x)"
   ]
  },
  {
   "cell_type": "code",
   "execution_count": 2,
   "id": "417b1a1a",
   "metadata": {},
   "outputs": [
    {
     "name": "stdout",
     "output_type": "stream",
     "text": [
      "6\n"
     ]
    }
   ],
   "source": [
    "#Lambda functions\n",
    "#used it reduced the need  long function\n",
    "p= lambda a,b,c:a+b+c\n",
    "print(p(1,2,3))"
   ]
  },
  {
   "cell_type": "code",
   "execution_count": 3,
   "id": "427c77f2",
   "metadata": {},
   "outputs": [
    {
     "name": "stdout",
     "output_type": "stream",
     "text": [
      "8\n"
     ]
    }
   ],
   "source": [
    "num=lambda num:num*num*num\n",
    "print(num(2))"
   ]
  },
  {
   "cell_type": "code",
   "execution_count": 4,
   "id": "88699f47",
   "metadata": {},
   "outputs": [
    {
     "name": "stdout",
     "output_type": "stream",
     "text": [
      "(2, 3, 4)\n"
     ]
    }
   ],
   "source": [
    "x=lambda a,b,c:a*b*c\n",
    "i=2,3,4\n",
    "print(i)"
   ]
  },
  {
   "cell_type": "code",
   "execution_count": 5,
   "id": "946b0088",
   "metadata": {},
   "outputs": [],
   "source": [
    "#recurssion\n",
    "#factorial of number\n",
    "def fact(num):\n",
    "    if num==0:\n",
    "       return num * fact(num-1)\n"
   ]
  },
  {
   "cell_type": "code",
   "execution_count": 6,
   "id": "fae85458",
   "metadata": {},
   "outputs": [
    {
     "name": "stdout",
     "output_type": "stream",
     "text": [
      "None\n"
     ]
    }
   ],
   "source": [
    "print(fact(5))"
   ]
  },
  {
   "cell_type": "code",
   "execution_count": 7,
   "id": "8b13d1b3",
   "metadata": {},
   "outputs": [],
   "source": [
    "#factorial of numbers\n",
    "def factorial(n):\n",
    "    if n==0:\n",
    "        return 1\n",
    "    else:\n",
    "        return n*factorial(n-1)\n",
    "    int(input(\"enter a number\"))\n",
    "    print(factorial(n))"
   ]
  },
  {
   "cell_type": "code",
   "execution_count": null,
   "id": "f90cc527",
   "metadata": {},
   "outputs": [],
   "source": []
  }
 ],
 "metadata": {
  "kernelspec": {
   "display_name": "base",
   "language": "python",
   "name": "python3"
  },
  "language_info": {
   "codemirror_mode": {
    "name": "ipython",
    "version": 3
   },
   "file_extension": ".py",
   "mimetype": "text/x-python",
   "name": "python",
   "nbconvert_exporter": "python",
   "pygments_lexer": "ipython3",
   "version": "3.12.4"
  }
 },
 "nbformat": 4,
 "nbformat_minor": 5
}

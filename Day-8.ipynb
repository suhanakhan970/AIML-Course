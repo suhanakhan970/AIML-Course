{
 "cells": [
  {
   "cell_type": "code",
   "execution_count": null,
   "id": "86fdd616",
   "metadata": {},
   "outputs": [],
   "source": []
  },
  {
   "cell_type": "markdown",
   "id": "3f26d27f",
   "metadata": {},
   "source": [
    "DATA ACQUISITION"
   ]
  },
  {
   "cell_type": "markdown",
   "id": "bd2b1eb7",
   "metadata": {},
   "source": []
  },
  {
   "cell_type": "code",
   "execution_count": 1,
   "id": "b26acd8d",
   "metadata": {},
   "outputs": [],
   "source": [
    "header=[\"name\",\"age\",\"city\"]\n",
    "data = [\n",
    "    ['Alice', 30, 'New York'],\n",
    "    ['Bob', 25, 'Los Angeles'],\n",
    "    ['Charlie', 35, 'Chicago'],\n",
    "    ['David', 28, 'Houston'],\n",
    "    ['Eve', 22, 'Phoenix'],\n",
    "    ['Frank', 40, 'Philadelphia'],\n",
    "    ['Grace', 29, 'San Francisco'],\n",
    "    ['Hannah', 31, 'Seattle'],\n",
    "    ['Ian', 27, 'Boston'],\n",
    "    ['Judy', 33, 'Miami'],\n",
    "    ['Kevin', 26, 'Dallas'],\n",
    "    ['Laura', 32, 'Atlanta'],\n",
    "    ['Mike', 24, 'Denver'],\n",
    "    ['Nina', 38, 'San Diego'],\n",
    "    ['Oscar', 36, 'Portland'],\n",
    "    ['Paula', 23, 'Austin'],\n",
    "    ['Quentin', 34, 'Baltimore'],\n",
    "    ['Rachel', 30, 'Charlotte'],\n",
    "    ['Steve', 29, 'Detroit'],\n",
    "    ['Tina', 28, 'Indianapolis'],\n",
    "    ['Uma', 37, 'San Antonio']\n",
    "    ]\n"
   ]
  },
  {
   "cell_type": "code",
   "execution_count": 3,
   "id": "01a23a56",
   "metadata": {},
   "outputs": [
    {
     "data": {
      "text/plain": [
       "list"
      ]
     },
     "execution_count": 3,
     "metadata": {},
     "output_type": "execute_result"
    }
   ],
   "source": [
    "type(data)"
   ]
  },
  {
   "cell_type": "code",
   "execution_count": 4,
   "id": "c8c8e779",
   "metadata": {},
   "outputs": [
    {
     "data": {
      "text/plain": [
       "(21, 3)"
      ]
     },
     "execution_count": 4,
     "metadata": {},
     "output_type": "execute_result"
    }
   ],
   "source": [
    "import numpy as np\n",
    "np.shape(data)"
   ]
  },
  {
   "cell_type": "code",
   "execution_count": null,
   "id": "bc9509c1",
   "metadata": {},
   "outputs": [],
   "source": [
    "#create a csv file write a data to it\n",
    "import csv\n",
    "with open(\"people.csv\",mode='w',newline='')as file:\n",
    "    writer=csv.writter file;"
   ]
  },
  {
   "cell_type": "code",
   "execution_count": null,
   "id": "21bcd73d",
   "metadata": {},
   "outputs": [],
   "source": []
  },
  {
   "cell_type": "code",
   "execution_count": null,
   "id": "bf6c6b30",
   "metadata": {},
   "outputs": [],
   "source": []
  },
  {
   "cell_type": "markdown",
   "id": "d4d3ce2e",
   "metadata": {},
   "source": []
  },
  {
   "cell_type": "markdown",
   "id": "87c5288d",
   "metadata": {},
   "source": []
  },
  {
   "cell_type": "markdown",
   "id": "8ee94409",
   "metadata": {},
   "source": []
  },
  {
   "cell_type": "markdown",
   "id": "ba0feab3",
   "metadata": {},
   "source": []
  },
  {
   "cell_type": "markdown",
   "id": "ed07b2c4",
   "metadata": {},
   "source": []
  },
  {
   "cell_type": "markdown",
   "id": "8b0c4c1a",
   "metadata": {},
   "source": []
  },
  {
   "cell_type": "code",
   "execution_count": null,
   "id": "0d4327f2",
   "metadata": {},
   "outputs": [],
   "source": []
  },
  {
   "cell_type": "code",
   "execution_count": null,
   "metadata": {},
   "outputs": [],
   "source": []
  },
  {
   "cell_type": "code",
   "execution_count": null,
   "metadata": {},
   "outputs": [],
   "source": []
  },
  {
   "cell_type": "code",
   "execution_count": null,
   "metadata": {},
   "outputs": [],
   "source": []
  },
  {
   "cell_type": "code",
   "execution_count": null,
   "metadata": {},
   "outputs": [],
   "source": []
  },
  {
   "cell_type": "code",
   "execution_count": null,
   "metadata": {},
   "outputs": [],
   "source": []
  },
  {
   "cell_type": "code",
   "execution_count": null,
   "id": "6f3d72db",
   "metadata": {},
   "outputs": [],
   "source": []
  },
  {
   "cell_type": "code",
   "execution_count": null,
   "id": "3583b5ce",
   "metadata": {},
   "outputs": [],
   "source": []
  }
 ],
 "metadata": {
  "kernelspec": {
   "display_name": "base",
   "language": "python",
   "name": "python3"
  },
  "language_info": {
   "codemirror_mode": {
    "name": "ipython",
    "version": 3
   },
   "file_extension": ".py",
   "mimetype": "text/x-python",
   "name": "python",
   "nbconvert_exporter": "python",
   "pygments_lexer": "ipython3",
   "version": "3.12.4"
  }
 },
 "nbformat": 4,
 "nbformat_minor": 5
}

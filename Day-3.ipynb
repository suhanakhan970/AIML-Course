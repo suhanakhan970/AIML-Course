{
 "cells": [
  {
   "cell_type": "code",
   "execution_count": null,
   "id": "794264f7",
   "metadata": {},
   "outputs": [],
   "source": [
    "#ipynb-> interactive python notebook"
   ]
  },
  {
   "cell_type": "code",
   "execution_count": 1,
   "id": "50de8668",
   "metadata": {},
   "outputs": [
    {
     "name": "stdout",
     "output_type": "stream",
     "text": [
      "hello world\n"
     ]
    }
   ],
   "source": [
    "print(\"hello world\")"
   ]
  },
  {
   "cell_type": "code",
   "execution_count": 2,
   "id": "dc635fbd",
   "metadata": {},
   "outputs": [
    {
     "name": "stdout",
     "output_type": "stream",
     "text": [
      "<class 'int'>\n"
     ]
    },
    {
     "data": {
      "text/plain": [
       "str"
      ]
     },
     "execution_count": 2,
     "metadata": {},
     "output_type": "execute_result"
    }
   ],
   "source": [
    "#Variables\n",
    "a= 10\n",
    "print(type(a))\n",
    "b=\"suhana\"\n",
    "type(b)"
   ]
  },
  {
   "cell_type": "code",
   "execution_count": 3,
   "id": "f86ae006",
   "metadata": {},
   "outputs": [
    {
     "name": "stdout",
     "output_type": "stream",
     "text": [
      "<class 'int'>\n"
     ]
    }
   ],
   "source": [
    "a=10\n",
    "a=90\n",
    "#a=\"ss\"\n",
    "print(type(a))"
   ]
  },
  {
   "cell_type": "code",
   "execution_count": 4,
   "id": "703a30c5",
   "metadata": {},
   "outputs": [
    {
     "name": "stdout",
     "output_type": "stream",
     "text": [
      "suhana lives in ambalaand is19year old\n",
      "suhanalives in ambala she is 19\n"
     ]
    }
   ],
   "source": [
    "name=\"suhana\"\n",
    "address=\"ambala\"\n",
    "age=19\n",
    "print(f\"{name} lives in {address}and is{age}year old\")\n",
    "print(\"{}lives in {} she is {}\".format(name,address,age))\n"
   ]
  },
  {
   "cell_type": "code",
   "execution_count": null,
   "id": "ea8bc304",
   "metadata": {},
   "outputs": [],
   "source": []
  }
 ],
 "metadata": {
  "kernelspec": {
   "display_name": "base",
   "language": "python",
   "name": "python3"
  },
  "language_info": {
   "codemirror_mode": {
    "name": "ipython",
    "version": 3
   },
   "file_extension": ".py",
   "mimetype": "text/x-python",
   "name": "python",
   "nbconvert_exporter": "python",
   "pygments_lexer": "ipython3",
   "version": "3.12.4"
  }
 },
 "nbformat": 4,
 "nbformat_minor": 5
}

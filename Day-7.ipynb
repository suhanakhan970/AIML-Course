{
 "cells": [
  {
   "cell_type": "markdown",
   "id": "938851f5",
   "metadata": {},
   "source": [
    "PANDAS"
   ]
  },
  {
   "cell_type": "code",
   "execution_count": 1,
   "id": "97ef76ac",
   "metadata": {},
   "outputs": [
    {
     "name": "stdout",
     "output_type": "stream",
     "text": [
      "   a  b  c\n",
      "0  1  1  1\n",
      "1  2  2  2\n",
      "2  3  3  3\n"
     ]
    }
   ],
   "source": [
    "import pandas as pd\n",
    "data={\n",
    "    \"a\":[1,2,3],\n",
    "    \"b\":[1,2,3],\n",
    "    \"c\":[1,2,3]\n",
    "}\n",
    "df=pd.DataFrame(data)\n",
    "print(df)"
   ]
  },
  {
   "cell_type": "code",
   "execution_count": 2,
   "id": "3d2873f3",
   "metadata": {},
   "outputs": [
    {
     "data": {
      "text/plain": [
       "0    1\n",
       "1    2\n",
       "2    3\n",
       "Name: a, dtype: int64"
      ]
     },
     "execution_count": 2,
     "metadata": {},
     "output_type": "execute_result"
    }
   ],
   "source": [
    "df['a']"
   ]
  },
  {
   "cell_type": "code",
   "execution_count": 3,
   "id": "29eb9fb0",
   "metadata": {},
   "outputs": [
    {
     "name": "stdout",
     "output_type": "stream",
     "text": [
      "   c\n",
      "0  1\n",
      "1  2\n",
      "2  3\n"
     ]
    }
   ],
   "source": [
    "#remove some column from table\n",
    "df1=df.drop(columns=['a','b'])\n",
    "print(df1)"
   ]
  },
  {
   "cell_type": "code",
   "execution_count": 4,
   "id": "4928ff3d",
   "metadata": {},
   "outputs": [],
   "source": [
    "data ={\n",
    "    \" Student_Name\":[\"Kanchan\",\"Deepika\",\"Suhana\",\"Neha\"],\n",
    "    \"Roll_no.\" :[2322819, 2322010, 2322008, 2322810],\n",
    "    \"Subject1 \": [97, 89,90,95],\n",
    "    \"subject2\" :[90,80,85,95],\n",
    "    \"subject3\":[95,84,99,90]\n",
    "\n",
    "\n",
    "}"
   ]
  },
  {
   "cell_type": "code",
   "execution_count": 5,
   "id": "bf45c969",
   "metadata": {},
   "outputs": [
    {
     "name": "stdout",
     "output_type": "stream",
     "text": [
      "   Student_Name  Roll_no.  Subject1   subject2  subject3\n",
      "0       Kanchan   2322819         97        90        95\n",
      "1       Deepika   2322010         89        80        84\n",
      "2        Suhana   2322008         90        85        99\n",
      "3          Neha   2322810         95        95        90\n"
     ]
    }
   ],
   "source": [
    "import pandas as pd\n",
    "df = pd.DataFrame(data)\n",
    "print(df)"
   ]
  },
  {
   "cell_type": "code",
   "execution_count": 6,
   "id": "6b679f0d",
   "metadata": {},
   "outputs": [],
   "source": [
    "df.to_csv('my_data.csv', index=False)"
   ]
  },
  {
   "cell_type": "code",
   "execution_count": 7,
   "id": "028c2a05",
   "metadata": {},
   "outputs": [],
   "source": [
    "df = pd.read_csv('my_data.csv')"
   ]
  },
  {
   "cell_type": "code",
   "execution_count": 8,
   "id": "09289636",
   "metadata": {},
   "outputs": [
    {
     "name": "stdout",
     "output_type": "stream",
     "text": [
      "   Student_Name  Roll_no.  Subject1   subject2  subject3\n",
      "0       Kanchan   2322819         97        90        95\n",
      "1       Deepika   2322010         89        80        84\n",
      "2        Suhana   2322008         90        85        99\n",
      "3          Neha   2322810         95        95        90\n"
     ]
    }
   ],
   "source": [
    "print(df)"
   ]
  },
  {
   "cell_type": "code",
   "execution_count": null,
   "id": "9c22e6b8",
   "metadata": {},
   "outputs": [],
   "source": []
  }
 ],
 "metadata": {
  "kernelspec": {
   "display_name": "base",
   "language": "python",
   "name": "python3"
  },
  "language_info": {
   "codemirror_mode": {
    "name": "ipython",
    "version": 3
   },
   "file_extension": ".py",
   "mimetype": "text/x-python",
   "name": "python",
   "nbconvert_exporter": "python",
   "pygments_lexer": "ipython3",
   "version": "3.12.4"
  }
 },
 "nbformat": 4,
 "nbformat_minor": 5
}

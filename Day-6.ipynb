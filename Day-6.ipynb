{
 "cells": [
  {
   "cell_type": "markdown",
   "id": "75e219cb",
   "metadata": {},
   "source": [
    "NUMPY LIBRARIE"
   ]
  },
  {
   "cell_type": "code",
   "execution_count": 2,
   "id": "87c2cab9",
   "metadata": {},
   "outputs": [],
   "source": [
    "#numpy is python lib\n",
    "#numpy is stands for numerical python\n",
    "#numpy is used for working with array"
   ]
  },
  {
   "cell_type": "code",
   "execution_count": 3,
   "id": "36532793",
   "metadata": {},
   "outputs": [
    {
     "name": "stdout",
     "output_type": "stream",
     "text": [
      "[1 2 3 4 5]\n"
     ]
    }
   ],
   "source": [
    "import numpy as np\n",
    "arr=np.array([1,2,3,4,5])\n",
    "print(arr)"
   ]
  },
  {
   "cell_type": "code",
   "execution_count": 4,
   "metadata": {},
   "outputs": [
    {
     "name": "stdout",
     "output_type": "stream",
     "text": [
      "<class 'numpy.ndarray'>\n"
     ]
    }
   ],
   "source": [
    "print(type(arr))"
   ]
  },
  {
   "cell_type": "code",
   "execution_count": 6,
   "metadata": {},
   "outputs": [
    {
     "name": "stdout",
     "output_type": "stream",
     "text": [
      "1.26.4\n"
     ]
    }
   ],
   "source": [
    "print(np.__version__)\n"
   ]
  },
  {
   "cell_type": "markdown",
   "id": "b3315e9b",
   "metadata": {},
   "source": [
    "0-D Array"
   ]
  },
  {
   "cell_type": "code",
   "execution_count": 5,
   "id": "a05551b9",
   "metadata": {},
   "outputs": [
    {
     "name": "stdout",
     "output_type": "stream",
     "text": [
      "24\n"
     ]
    }
   ],
   "source": [
    "import numpy as np\n",
    "arr1=np.array(24)\n",
    "print(arr1)"
   ]
  },
  {
   "cell_type": "markdown",
   "id": "36b57f1f",
   "metadata": {},
   "source": [
    "1-D Array"
   ]
  },
  {
   "cell_type": "code",
   "execution_count": 6,
   "id": "2f24ce6e",
   "metadata": {},
   "outputs": [
    {
     "name": "stdout",
     "output_type": "stream",
     "text": [
      "[1 2 3 4 5]\n"
     ]
    }
   ],
   "source": [
    "import numpy as np\n",
    "arr2=np.array([1,2,3,4,5])\n",
    "print(arr2)"
   ]
  },
  {
   "cell_type": "markdown",
   "id": "70acbcda",
   "metadata": {},
   "source": [
    "2-D Array"
   ]
  },
  {
   "cell_type": "code",
   "execution_count": 7,
   "id": "25bbc760",
   "metadata": {},
   "outputs": [
    {
     "name": "stdout",
     "output_type": "stream",
     "text": [
      "[[1 2 3 4 5]\n",
      " [5 6 7 8 9]]\n"
     ]
    }
   ],
   "source": [
    "import numpy as np\n",
    "arr3=np.array([[1,2,3,4,5],[5,6,7,8,9]])\n",
    "print(arr3)"
   ]
  },
  {
   "cell_type": "markdown",
   "id": "8324bf12",
   "metadata": {},
   "source": [
    "3-D Array"
   ]
  },
  {
   "cell_type": "code",
   "execution_count": 8,
   "id": "765e080e",
   "metadata": {},
   "outputs": [
    {
     "name": "stdout",
     "output_type": "stream",
     "text": [
      "[[[1 2 3]\n",
      "  [1 3 4]\n",
      "  [7 8 9]]]\n"
     ]
    }
   ],
   "source": [
    "import numpy as np\n",
    "arr4=np.array([[[1,2,3],[1,3,4],[7,8,9]]])\n",
    "print(arr4)"
   ]
  },
  {
   "cell_type": "code",
   "execution_count": null,
   "id": "702d00e4",
   "metadata": {},
   "outputs": [],
   "source": []
  },
  {
   "cell_type": "markdown",
   "id": "e8daa252",
   "metadata": {},
   "source": [
    "Check number of dimenssions"
   ]
  },
  {
   "cell_type": "code",
   "execution_count": 11,
   "id": "4f5f3dbb",
   "metadata": {},
   "outputs": [
    {
     "name": "stdout",
     "output_type": "stream",
     "text": [
      "3\n",
      "2\n"
     ]
    }
   ],
   "source": [
    "print(arr4.ndim)\n",
    "print(arr3.ndim)"
   ]
  },
  {
   "cell_type": "markdown",
   "id": "711273de",
   "metadata": {},
   "source": [
    "Access array element"
   ]
  },
  {
   "cell_type": "code",
   "execution_count": 14,
   "id": "9a07149b",
   "metadata": {},
   "outputs": [
    {
     "name": "stdout",
     "output_type": "stream",
     "text": [
      "3\n"
     ]
    }
   ],
   "source": [
    "a=np.array([1,2,3,4])\n",
    "print(a[2])"
   ]
  },
  {
   "cell_type": "code",
   "execution_count": 17,
   "id": "e95ff6f4",
   "metadata": {},
   "outputs": [
    {
     "name": "stdout",
     "output_type": "stream",
     "text": [
      "10\n"
     ]
    }
   ],
   "source": [
    "a=np.array([2,3,4,5,6,7])\n",
    "print(a[2]+a[4])"
   ]
  },
  {
   "cell_type": "code",
   "execution_count": null,
   "id": "830cd3db",
   "metadata": {},
   "outputs": [
    {
     "name": "stdout",
     "output_type": "stream",
     "text": [
      "sec elementy on first row 2\n"
     ]
    }
   ],
   "source": [
    "import numpy as np\n",
    "arr3=np.array([[1,2,3,4,5,9,8],[5,6,7,8,9,8,9]])\n",
    "print('sec elementy on first row',arr3[0,1])"
   ]
  },
  {
   "cell_type": "code",
   "execution_count": 21,
   "id": "20d21e89",
   "metadata": {},
   "outputs": [
    {
     "name": "stdout",
     "output_type": "stream",
     "text": [
      "fifth element on sec row 9\n"
     ]
    }
   ],
   "source": [
    "print('fifth element on sec row',arr3[1,4])"
   ]
  },
  {
   "cell_type": "code",
   "execution_count": 22,
   "id": "3ca8ff77",
   "metadata": {},
   "outputs": [
    {
     "name": "stdout",
     "output_type": "stream",
     "text": [
      "4\n"
     ]
    }
   ],
   "source": [
    "x=np.array([[[1,2,3],[3,4,5]],[[3,4,5],[8,9,8]]])\n",
    "print(arr[0,1,2])"
   ]
  },
  {
   "cell_type": "markdown",
   "id": "475f7f4f",
   "metadata": {},
   "source": [
    "Neagative indexing"
   ]
  },
  {
   "cell_type": "code",
   "execution_count": 23,
   "id": "eb20c7eb",
   "metadata": {},
   "outputs": [
    {
     "name": "stdout",
     "output_type": "stream",
     "text": [
      "last element from 2nd dim: 8\n"
     ]
    }
   ],
   "source": [
    "arr=np.array([[1,2,3,4,5],[6,7,8,9,8]])\n",
    "print('last element from 2nd dim:',arr[1,-1])"
   ]
  },
  {
   "cell_type": "code",
   "execution_count": null,
   "id": "dffc9dd2",
   "metadata": {},
   "outputs": [
    {
     "name": "stdout",
     "output_type": "stream",
     "text": [
      "[1 5 4 3]\n",
      "[]\n"
     ]
    }
   ],
   "source": [
    "x=np.array([1,5,4,3,2])\n",
    "print(x[ :4])\n"
   ]
  },
  {
   "cell_type": "code",
   "execution_count": 29,
   "id": "5bb0f087",
   "metadata": {},
   "outputs": [
    {
     "name": "stdout",
     "output_type": "stream",
     "text": [
      "[]\n"
     ]
    }
   ],
   "source": [
    "print(x[-1:-5])"
   ]
  },
  {
   "cell_type": "code",
   "execution_count": 30,
   "id": "0b9b5018",
   "metadata": {},
   "outputs": [
    {
     "name": "stdout",
     "output_type": "stream",
     "text": [
      "[2 4]\n"
     ]
    }
   ],
   "source": [
    "arr = np.array([1, 2, 3, 4, 5, 6, 7])\n",
    "\n",
    "print(arr[1:5:2])"
   ]
  },
  {
   "cell_type": "code",
   "execution_count": 32,
   "id": "0e9dc7fd",
   "metadata": {},
   "outputs": [
    {
     "name": "stdout",
     "output_type": "stream",
     "text": [
      "[1 3 5 7]\n"
     ]
    }
   ],
   "source": [
    "arr = np.array([1, 2, 3, 4, 5, 6, 7])\n",
    "print(arr[::2])"
   ]
  },
  {
   "cell_type": "code",
   "execution_count": null,
   "id": "bef3b01a",
   "metadata": {},
   "outputs": [],
   "source": []
  }
 ],
 "metadata": {
  "kernelspec": {
   "display_name": "base",
   "language": "python",
   "name": "python3"
  },
  "language_info": {
   "codemirror_mode": {
    "name": "ipython",
    "version": 3
   },
   "file_extension": ".py",
   "mimetype": "text/x-python",
   "name": "python",
   "nbconvert_exporter": "python",
   "pygments_lexer": "ipython3",
   "version": "3.12.4"
  }
 },
 "nbformat": 4,
 "nbformat_minor": 5
}

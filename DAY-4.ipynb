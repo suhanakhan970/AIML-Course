{
 "cells": [
  {
   "cell_type": "markdown",
   "id": "3dbe0811",
   "metadata": {},
   "source": [
    "function is a block of code\n",
    "repeatdly used it\n",
    "code reusability\n",
    "function declaration: creat a function\n",
    "function defination: define the function\n",
    "return value:"
   ]
  },
  {
   "cell_type": "code",
   "execution_count": 2,
   "id": "84717531",
   "metadata": {},
   "outputs": [],
   "source": [
    "#creating a function\n",
    "def my_function():\n",
    "  print(\"hello\")"
   ]
  },
  {
   "cell_type": "code",
   "execution_count": 3,
   "id": "2fce7d76",
   "metadata": {},
   "outputs": [
    {
     "name": "stdout",
     "output_type": "stream",
     "text": [
      "hello\n"
     ]
    }
   ],
   "source": [
    "#calling a function\n",
    "my_function()"
   ]
  },
  {
   "cell_type": "code",
   "execution_count": 4,
   "id": "c88cab86",
   "metadata": {},
   "outputs": [],
   "source": [
    "#arguments\n",
    "#information in passed in function as an arguments\n",
    "def my_function(fname):\n",
    "    print(fname + id)\n",
    "    "
   ]
  },
  {
   "cell_type": "code",
   "execution_count": 5,
   "id": "f1df7bff",
   "metadata": {},
   "outputs": [],
   "source": [
    "def my_function(fname,lname):\n",
    "    my_function(\"emil\",\"refsnes\")\n",
    "    print(fname,\" \",lname)\n",
    "    "
   ]
  },
  {
   "cell_type": "code",
   "execution_count": 6,
   "id": "8d4dc3d4",
   "metadata": {},
   "outputs": [
    {
     "name": "stdout",
     "output_type": "stream",
     "text": [
      "15 5 50 2.0\n"
     ]
    }
   ],
   "source": [
    "def cal(x,y):\n",
    "    \n",
    "    p= x+y\n",
    "    q= x-y\n",
    "    z= x*y\n",
    "    i= x/y\n",
    "    return p,q,z,i\n",
    "a,b,c,d= cal(10,5)\n",
    "print(a,b,c,d)"
   ]
  },
  {
   "cell_type": "code",
   "execution_count": 7,
   "id": "0b3fe1d8",
   "metadata": {},
   "outputs": [
    {
     "name": "stdout",
     "output_type": "stream",
     "text": [
      "15 5\n"
     ]
    }
   ],
   "source": [
    "def sum(a,b):\n",
    "    x= a+b\n",
    "    y= a-b\n",
    "    return x,y\n",
    "p,q=sum(10,5)\n",
    "print(p,q)\n",
    "    "
   ]
  },
  {
   "cell_type": "code",
   "execution_count": 8,
   "id": "2f455dd6",
   "metadata": {},
   "outputs": [],
   "source": [
    "#passing a list as an arguments\n",
    "def shop(food):\n",
    "    for x in food:\n",
    "        print(x)\n",
    "        fruits=[\"apple\",\"mango\",\"banana\"]\n",
    "        shop(fruits)"
   ]
  },
  {
   "cell_type": "code",
   "execution_count": 9,
   "id": "11661590",
   "metadata": {},
   "outputs": [],
   "source": [
    "def max_two(x,y):\n",
    "    if x>y:\n",
    "        return p\n",
    "    else:\n",
    "        return q\n",
    "    z=max_two(2,3)\n",
    "    print(z)\n",
    "\n"
   ]
  },
  {
   "cell_type": "code",
   "execution_count": 10,
   "id": "7d12608b",
   "metadata": {},
   "outputs": [],
   "source": [
    "def sum(numbers):\n",
    "    total=0\n",
    "    for x in numbers:\n",
    "        total +=x\n",
    "        return total\n",
    "    print(sum(5,7,6,8))"
   ]
  },
  {
   "cell_type": "code",
   "execution_count": null,
   "id": "5c4d76a7",
   "metadata": {},
   "outputs": [],
   "source": []
  }
 ],
 "metadata": {
  "kernelspec": {
   "display_name": "base",
   "language": "python",
   "name": "python3"
  },
  "language_info": {
   "codemirror_mode": {
    "name": "ipython",
    "version": 3
   },
   "file_extension": ".py",
   "mimetype": "text/x-python",
   "name": "python",
   "nbconvert_exporter": "python",
   "pygments_lexer": "ipython3",
   "version": "3.12.4"
  }
 },
 "nbformat": 4,
 "nbformat_minor": 5
}
